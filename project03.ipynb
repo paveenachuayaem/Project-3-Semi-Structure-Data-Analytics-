{
 "cells": [
  {
   "cell_type": "markdown",
   "metadata": {},
   "source": [
    "## Importing pandas inorder to read the json file"
   ]
  },
  {
   "cell_type": "code",
   "execution_count": 95,
   "metadata": {},
   "outputs": [],
   "source": [
    "import pandas as pd"
   ]
  },
  {
   "cell_type": "markdown",
   "metadata": {},
   "source": [
    "## With lines=True, Pandas will read each line as a separate record"
   ]
  },
  {
   "cell_type": "code",
   "execution_count": 96,
   "metadata": {},
   "outputs": [],
   "source": [
    "data = pd.read_json('sales.json', lines=True)"
   ]
  },
  {
   "cell_type": "code",
   "execution_count": 97,
   "metadata": {},
   "outputs": [
    {
     "data": {
      "text/html": [
       "<div>\n",
       "<style scoped>\n",
       "    .dataframe tbody tr th:only-of-type {\n",
       "        vertical-align: middle;\n",
       "    }\n",
       "\n",
       "    .dataframe tbody tr th {\n",
       "        vertical-align: top;\n",
       "    }\n",
       "\n",
       "    .dataframe thead th {\n",
       "        text-align: right;\n",
       "    }\n",
       "</style>\n",
       "<table border=\"1\" class=\"dataframe\">\n",
       "  <thead>\n",
       "    <tr style=\"text-align: right;\">\n",
       "      <th></th>\n",
       "      <th>_id</th>\n",
       "      <th>saleDate</th>\n",
       "      <th>items</th>\n",
       "      <th>storeLocation</th>\n",
       "      <th>customer</th>\n",
       "      <th>purchaseMethod</th>\n",
       "    </tr>\n",
       "  </thead>\n",
       "  <tbody>\n",
       "    <tr>\n",
       "      <th>0</th>\n",
       "      <td>{'$oid': '5bd761dcae323e45a93ccfe8'}</td>\n",
       "      <td>{'$date': '2015-03-23T21:06:49.506Z'}</td>\n",
       "      <td>[{'name': 'printer paper', 'tags': ['office', ...</td>\n",
       "      <td>Denver</td>\n",
       "      <td>{'gender': 'M', 'age': 42, 'email': 'cauho@wit...</td>\n",
       "      <td>Online</td>\n",
       "    </tr>\n",
       "    <tr>\n",
       "      <th>1</th>\n",
       "      <td>{'$oid': '5bd761dcae323e45a93ccfe9'}</td>\n",
       "      <td>{'$date': '2015-08-25T10:01:02.918Z'}</td>\n",
       "      <td>[{'name': 'envelopes', 'tags': ['stationary', ...</td>\n",
       "      <td>Seattle</td>\n",
       "      <td>{'gender': 'M', 'age': 50, 'email': 'keecade@h...</td>\n",
       "      <td>Phone</td>\n",
       "    </tr>\n",
       "    <tr>\n",
       "      <th>2</th>\n",
       "      <td>{'$oid': '5bd761dcae323e45a93ccfea'}</td>\n",
       "      <td>{'$date': '2017-06-22T09:54:14.185Z'}</td>\n",
       "      <td>[{'name': 'notepad', 'tags': ['office', 'writi...</td>\n",
       "      <td>Denver</td>\n",
       "      <td>{'gender': 'M', 'age': 51, 'email': 'worbiduh@...</td>\n",
       "      <td>In store</td>\n",
       "    </tr>\n",
       "    <tr>\n",
       "      <th>3</th>\n",
       "      <td>{'$oid': '5bd761dcae323e45a93ccfeb'}</td>\n",
       "      <td>{'$date': '2015-02-23T09:53:59.343Z'}</td>\n",
       "      <td>[{'name': 'binder', 'tags': ['school', 'genera...</td>\n",
       "      <td>Seattle</td>\n",
       "      <td>{'gender': 'F', 'age': 45, 'email': 'vatires@t...</td>\n",
       "      <td>In store</td>\n",
       "    </tr>\n",
       "    <tr>\n",
       "      <th>4</th>\n",
       "      <td>{'$oid': '5bd761dcae323e45a93ccfec'}</td>\n",
       "      <td>{'$date': '2017-12-03T18:39:48.253Z'}</td>\n",
       "      <td>[{'name': 'backpack', 'tags': ['school', 'trav...</td>\n",
       "      <td>London</td>\n",
       "      <td>{'gender': 'M', 'age': 40, 'email': 'dotzu@ib....</td>\n",
       "      <td>In store</td>\n",
       "    </tr>\n",
       "  </tbody>\n",
       "</table>\n",
       "</div>"
      ],
      "text/plain": [
       "                                    _id  \\\n",
       "0  {'$oid': '5bd761dcae323e45a93ccfe8'}   \n",
       "1  {'$oid': '5bd761dcae323e45a93ccfe9'}   \n",
       "2  {'$oid': '5bd761dcae323e45a93ccfea'}   \n",
       "3  {'$oid': '5bd761dcae323e45a93ccfeb'}   \n",
       "4  {'$oid': '5bd761dcae323e45a93ccfec'}   \n",
       "\n",
       "                                saleDate  \\\n",
       "0  {'$date': '2015-03-23T21:06:49.506Z'}   \n",
       "1  {'$date': '2015-08-25T10:01:02.918Z'}   \n",
       "2  {'$date': '2017-06-22T09:54:14.185Z'}   \n",
       "3  {'$date': '2015-02-23T09:53:59.343Z'}   \n",
       "4  {'$date': '2017-12-03T18:39:48.253Z'}   \n",
       "\n",
       "                                               items storeLocation  \\\n",
       "0  [{'name': 'printer paper', 'tags': ['office', ...        Denver   \n",
       "1  [{'name': 'envelopes', 'tags': ['stationary', ...       Seattle   \n",
       "2  [{'name': 'notepad', 'tags': ['office', 'writi...        Denver   \n",
       "3  [{'name': 'binder', 'tags': ['school', 'genera...       Seattle   \n",
       "4  [{'name': 'backpack', 'tags': ['school', 'trav...        London   \n",
       "\n",
       "                                            customer purchaseMethod  \n",
       "0  {'gender': 'M', 'age': 42, 'email': 'cauho@wit...         Online  \n",
       "1  {'gender': 'M', 'age': 50, 'email': 'keecade@h...          Phone  \n",
       "2  {'gender': 'M', 'age': 51, 'email': 'worbiduh@...       In store  \n",
       "3  {'gender': 'F', 'age': 45, 'email': 'vatires@t...       In store  \n",
       "4  {'gender': 'M', 'age': 40, 'email': 'dotzu@ib....       In store  "
      ]
     },
     "execution_count": 97,
     "metadata": {},
     "output_type": "execute_result"
    }
   ],
   "source": [
    "data.head()"
   ]
  },
  {
   "cell_type": "code",
   "execution_count": 98,
   "metadata": {},
   "outputs": [
    {
     "data": {
      "text/plain": [
       "Index(['_id', 'saleDate', 'items', 'storeLocation', 'customer',\n",
       "       'purchaseMethod'],\n",
       "      dtype='object')"
      ]
     },
     "execution_count": 98,
     "metadata": {},
     "output_type": "execute_result"
    }
   ],
   "source": [
    "data.columns"
   ]
  },
  {
   "cell_type": "code",
   "execution_count": 99,
   "metadata": {},
   "outputs": [
    {
     "data": {
      "text/plain": [
       "_id               object\n",
       "saleDate          object\n",
       "items             object\n",
       "storeLocation     object\n",
       "customer          object\n",
       "purchaseMethod    object\n",
       "dtype: object"
      ]
     },
     "execution_count": 99,
     "metadata": {},
     "output_type": "execute_result"
    }
   ],
   "source": [
    "data.dtypes "
   ]
  },
  {
   "cell_type": "markdown",
   "metadata": {},
   "source": [
    "## Checking if there are any missing values (NaN)"
   ]
  },
  {
   "cell_type": "code",
   "execution_count": 100,
   "metadata": {},
   "outputs": [
    {
     "name": "stdout",
     "output_type": "stream",
     "text": [
      "_id               0\n",
      "saleDate          0\n",
      "items             0\n",
      "storeLocation     0\n",
      "customer          0\n",
      "purchaseMethod    0\n",
      "dtype: int64\n"
     ]
    }
   ],
   "source": [
    "print(data.isna().sum().sort_values())"
   ]
  },
  {
   "cell_type": "markdown",
   "metadata": {},
   "source": [
    "## Helps Extracts and Transforms data from a nested JSON structure by creating  DataFrame where each row represents an individual item from a sales dataset, with associated sale and customer information."
   ]
  },
  {
   "cell_type": "code",
   "execution_count": 101,
   "metadata": {},
   "outputs": [],
   "source": [
    "# empty list to hold item data\n",
    "item_data = []\n",
    "\n",
    "#looped through each row\n",
    "for index, row in data.iterrows():\n",
    "    sale_id = row['_id']\n",
    "    sale_date = row['saleDate']\n",
    "    store_location = row['storeLocation']\n",
    "    customer = row['customer']\n",
    "    purchase_method = row['purchaseMethod']\n",
    "\n",
    "    #loop through the 'items' list which contains the details about individual items sold.\n",
    "    for item in row['items']:\n",
    "        item_data.append({\n",
    "            '_id': sale_id,\n",
    "            'saleDate': sale_date,\n",
    "            'storeLocation': store_location,\n",
    "            'purchaseMethod': purchase_method,\n",
    "            'quantity': item['quantity'],\n",
    "            'price': item['price'],\n",
    "            'name': item['name'],\n",
    "            'gender': customer['gender'],\n",
    "             \n",
    "        })\n",
    "\n",
    "df = pd.DataFrame(item_data)\n"
   ]
  },
  {
   "cell_type": "code",
   "execution_count": 102,
   "metadata": {},
   "outputs": [
    {
     "data": {
      "text/html": [
       "<div>\n",
       "<style scoped>\n",
       "    .dataframe tbody tr th:only-of-type {\n",
       "        vertical-align: middle;\n",
       "    }\n",
       "\n",
       "    .dataframe tbody tr th {\n",
       "        vertical-align: top;\n",
       "    }\n",
       "\n",
       "    .dataframe thead th {\n",
       "        text-align: right;\n",
       "    }\n",
       "</style>\n",
       "<table border=\"1\" class=\"dataframe\">\n",
       "  <thead>\n",
       "    <tr style=\"text-align: right;\">\n",
       "      <th></th>\n",
       "      <th>_id</th>\n",
       "      <th>saleDate</th>\n",
       "      <th>storeLocation</th>\n",
       "      <th>purchaseMethod</th>\n",
       "      <th>quantity</th>\n",
       "      <th>price</th>\n",
       "      <th>name</th>\n",
       "      <th>gender</th>\n",
       "    </tr>\n",
       "  </thead>\n",
       "  <tbody>\n",
       "    <tr>\n",
       "      <th>0</th>\n",
       "      <td>{'$oid': '5bd761dcae323e45a93ccfe8'}</td>\n",
       "      <td>{'$date': '2015-03-23T21:06:49.506Z'}</td>\n",
       "      <td>Denver</td>\n",
       "      <td>Online</td>\n",
       "      <td>2</td>\n",
       "      <td>{'$numberDecimal': '40.01'}</td>\n",
       "      <td>printer paper</td>\n",
       "      <td>M</td>\n",
       "    </tr>\n",
       "    <tr>\n",
       "      <th>1</th>\n",
       "      <td>{'$oid': '5bd761dcae323e45a93ccfe8'}</td>\n",
       "      <td>{'$date': '2015-03-23T21:06:49.506Z'}</td>\n",
       "      <td>Denver</td>\n",
       "      <td>Online</td>\n",
       "      <td>2</td>\n",
       "      <td>{'$numberDecimal': '35.29'}</td>\n",
       "      <td>notepad</td>\n",
       "      <td>M</td>\n",
       "    </tr>\n",
       "    <tr>\n",
       "      <th>2</th>\n",
       "      <td>{'$oid': '5bd761dcae323e45a93ccfe8'}</td>\n",
       "      <td>{'$date': '2015-03-23T21:06:49.506Z'}</td>\n",
       "      <td>Denver</td>\n",
       "      <td>Online</td>\n",
       "      <td>5</td>\n",
       "      <td>{'$numberDecimal': '56.12'}</td>\n",
       "      <td>pens</td>\n",
       "      <td>M</td>\n",
       "    </tr>\n",
       "    <tr>\n",
       "      <th>3</th>\n",
       "      <td>{'$oid': '5bd761dcae323e45a93ccfe8'}</td>\n",
       "      <td>{'$date': '2015-03-23T21:06:49.506Z'}</td>\n",
       "      <td>Denver</td>\n",
       "      <td>Online</td>\n",
       "      <td>2</td>\n",
       "      <td>{'$numberDecimal': '77.71'}</td>\n",
       "      <td>backpack</td>\n",
       "      <td>M</td>\n",
       "    </tr>\n",
       "    <tr>\n",
       "      <th>4</th>\n",
       "      <td>{'$oid': '5bd761dcae323e45a93ccfe8'}</td>\n",
       "      <td>{'$date': '2015-03-23T21:06:49.506Z'}</td>\n",
       "      <td>Denver</td>\n",
       "      <td>Online</td>\n",
       "      <td>2</td>\n",
       "      <td>{'$numberDecimal': '18.47'}</td>\n",
       "      <td>notepad</td>\n",
       "      <td>M</td>\n",
       "    </tr>\n",
       "    <tr>\n",
       "      <th>...</th>\n",
       "      <td>...</td>\n",
       "      <td>...</td>\n",
       "      <td>...</td>\n",
       "      <td>...</td>\n",
       "      <td>...</td>\n",
       "      <td>...</td>\n",
       "      <td>...</td>\n",
       "      <td>...</td>\n",
       "    </tr>\n",
       "    <tr>\n",
       "      <th>27433</th>\n",
       "      <td>{'$oid': '5bd761deae323e45a93ce36f'}</td>\n",
       "      <td>{'$date': '2014-08-18T06:25:49.739Z'}</td>\n",
       "      <td>New York</td>\n",
       "      <td>Online</td>\n",
       "      <td>5</td>\n",
       "      <td>{'$numberDecimal': '24.12'}</td>\n",
       "      <td>envelopes</td>\n",
       "      <td>M</td>\n",
       "    </tr>\n",
       "    <tr>\n",
       "      <th>27434</th>\n",
       "      <td>{'$oid': '5bd761deae323e45a93ce36f'}</td>\n",
       "      <td>{'$date': '2014-08-18T06:25:49.739Z'}</td>\n",
       "      <td>New York</td>\n",
       "      <td>Online</td>\n",
       "      <td>4</td>\n",
       "      <td>{'$numberDecimal': '27.1'}</td>\n",
       "      <td>pens</td>\n",
       "      <td>M</td>\n",
       "    </tr>\n",
       "    <tr>\n",
       "      <th>27435</th>\n",
       "      <td>{'$oid': '5bd761deae323e45a93ce36f'}</td>\n",
       "      <td>{'$date': '2014-08-18T06:25:49.739Z'}</td>\n",
       "      <td>New York</td>\n",
       "      <td>Online</td>\n",
       "      <td>3</td>\n",
       "      <td>{'$numberDecimal': '29.09'}</td>\n",
       "      <td>binder</td>\n",
       "      <td>M</td>\n",
       "    </tr>\n",
       "    <tr>\n",
       "      <th>27436</th>\n",
       "      <td>{'$oid': '5bd761deae323e45a93ce36f'}</td>\n",
       "      <td>{'$date': '2014-08-18T06:25:49.739Z'}</td>\n",
       "      <td>New York</td>\n",
       "      <td>Online</td>\n",
       "      <td>2</td>\n",
       "      <td>{'$numberDecimal': '598.79'}</td>\n",
       "      <td>laptop</td>\n",
       "      <td>M</td>\n",
       "    </tr>\n",
       "    <tr>\n",
       "      <th>27437</th>\n",
       "      <td>{'$oid': '5bd761deae323e45a93ce36f'}</td>\n",
       "      <td>{'$date': '2014-08-18T06:25:49.739Z'}</td>\n",
       "      <td>New York</td>\n",
       "      <td>Online</td>\n",
       "      <td>3</td>\n",
       "      <td>{'$numberDecimal': '70.9'}</td>\n",
       "      <td>backpack</td>\n",
       "      <td>M</td>\n",
       "    </tr>\n",
       "  </tbody>\n",
       "</table>\n",
       "<p>27438 rows × 8 columns</p>\n",
       "</div>"
      ],
      "text/plain": [
       "                                        _id  \\\n",
       "0      {'$oid': '5bd761dcae323e45a93ccfe8'}   \n",
       "1      {'$oid': '5bd761dcae323e45a93ccfe8'}   \n",
       "2      {'$oid': '5bd761dcae323e45a93ccfe8'}   \n",
       "3      {'$oid': '5bd761dcae323e45a93ccfe8'}   \n",
       "4      {'$oid': '5bd761dcae323e45a93ccfe8'}   \n",
       "...                                     ...   \n",
       "27433  {'$oid': '5bd761deae323e45a93ce36f'}   \n",
       "27434  {'$oid': '5bd761deae323e45a93ce36f'}   \n",
       "27435  {'$oid': '5bd761deae323e45a93ce36f'}   \n",
       "27436  {'$oid': '5bd761deae323e45a93ce36f'}   \n",
       "27437  {'$oid': '5bd761deae323e45a93ce36f'}   \n",
       "\n",
       "                                    saleDate storeLocation purchaseMethod  \\\n",
       "0      {'$date': '2015-03-23T21:06:49.506Z'}        Denver         Online   \n",
       "1      {'$date': '2015-03-23T21:06:49.506Z'}        Denver         Online   \n",
       "2      {'$date': '2015-03-23T21:06:49.506Z'}        Denver         Online   \n",
       "3      {'$date': '2015-03-23T21:06:49.506Z'}        Denver         Online   \n",
       "4      {'$date': '2015-03-23T21:06:49.506Z'}        Denver         Online   \n",
       "...                                      ...           ...            ...   \n",
       "27433  {'$date': '2014-08-18T06:25:49.739Z'}      New York         Online   \n",
       "27434  {'$date': '2014-08-18T06:25:49.739Z'}      New York         Online   \n",
       "27435  {'$date': '2014-08-18T06:25:49.739Z'}      New York         Online   \n",
       "27436  {'$date': '2014-08-18T06:25:49.739Z'}      New York         Online   \n",
       "27437  {'$date': '2014-08-18T06:25:49.739Z'}      New York         Online   \n",
       "\n",
       "       quantity                         price           name gender  \n",
       "0             2   {'$numberDecimal': '40.01'}  printer paper      M  \n",
       "1             2   {'$numberDecimal': '35.29'}        notepad      M  \n",
       "2             5   {'$numberDecimal': '56.12'}           pens      M  \n",
       "3             2   {'$numberDecimal': '77.71'}       backpack      M  \n",
       "4             2   {'$numberDecimal': '18.47'}        notepad      M  \n",
       "...         ...                           ...            ...    ...  \n",
       "27433         5   {'$numberDecimal': '24.12'}      envelopes      M  \n",
       "27434         4    {'$numberDecimal': '27.1'}           pens      M  \n",
       "27435         3   {'$numberDecimal': '29.09'}         binder      M  \n",
       "27436         2  {'$numberDecimal': '598.79'}         laptop      M  \n",
       "27437         3    {'$numberDecimal': '70.9'}       backpack      M  \n",
       "\n",
       "[27438 rows x 8 columns]"
      ]
     },
     "execution_count": 102,
     "metadata": {},
     "output_type": "execute_result"
    }
   ],
   "source": [
    "df"
   ]
  },
  {
   "cell_type": "code",
   "execution_count": 103,
   "metadata": {},
   "outputs": [
    {
     "data": {
      "text/plain": [
       "_id               object\n",
       "saleDate          object\n",
       "storeLocation     object\n",
       "purchaseMethod    object\n",
       "quantity           int64\n",
       "price             object\n",
       "name              object\n",
       "gender            object\n",
       "dtype: object"
      ]
     },
     "execution_count": 103,
     "metadata": {},
     "output_type": "execute_result"
    }
   ],
   "source": [
    "df.dtypes "
   ]
  },
  {
   "cell_type": "markdown",
   "metadata": {},
   "source": [
    "## Show top 10 products (name) sales (quantity x price). "
   ]
  },
  {
   "cell_type": "markdown",
   "metadata": {},
   "source": [
    "## # Create a new dictionary where values are converted to floats\n"
   ]
  },
  {
   "cell_type": "code",
   "execution_count": 104,
   "metadata": {},
   "outputs": [],
   "source": [
    "#convert values within dictionaries to float\n",
    "def convert_to_float(lst):\n",
    "    #empty list to store the modified dictionaries\n",
    "    result = [dict([a, float(x)] for a, x in b.items()) for b in lst]\n",
    "    return result\n",
    "\n",
    "df['price'] = convert_to_float(df['price'])"
   ]
  },
  {
   "cell_type": "markdown",
   "metadata": {},
   "source": [
    "## Define a function to extract the numeric value"
   ]
  },
  {
   "cell_type": "code",
   "execution_count": 105,
   "metadata": {},
   "outputs": [
    {
     "data": {
      "text/html": [
       "<div>\n",
       "<style scoped>\n",
       "    .dataframe tbody tr th:only-of-type {\n",
       "        vertical-align: middle;\n",
       "    }\n",
       "\n",
       "    .dataframe tbody tr th {\n",
       "        vertical-align: top;\n",
       "    }\n",
       "\n",
       "    .dataframe thead th {\n",
       "        text-align: right;\n",
       "    }\n",
       "</style>\n",
       "<table border=\"1\" class=\"dataframe\">\n",
       "  <thead>\n",
       "    <tr style=\"text-align: right;\">\n",
       "      <th></th>\n",
       "      <th>_id</th>\n",
       "      <th>saleDate</th>\n",
       "      <th>storeLocation</th>\n",
       "      <th>purchaseMethod</th>\n",
       "      <th>quantity</th>\n",
       "      <th>price</th>\n",
       "      <th>name</th>\n",
       "      <th>gender</th>\n",
       "      <th>sales</th>\n",
       "    </tr>\n",
       "  </thead>\n",
       "  <tbody>\n",
       "    <tr>\n",
       "      <th>0</th>\n",
       "      <td>{'$oid': '5bd761dcae323e45a93ccfe8'}</td>\n",
       "      <td>{'$date': '2015-03-23T21:06:49.506Z'}</td>\n",
       "      <td>Denver</td>\n",
       "      <td>Online</td>\n",
       "      <td>2</td>\n",
       "      <td>40.01</td>\n",
       "      <td>printer paper</td>\n",
       "      <td>M</td>\n",
       "      <td>80.02</td>\n",
       "    </tr>\n",
       "    <tr>\n",
       "      <th>1</th>\n",
       "      <td>{'$oid': '5bd761dcae323e45a93ccfe8'}</td>\n",
       "      <td>{'$date': '2015-03-23T21:06:49.506Z'}</td>\n",
       "      <td>Denver</td>\n",
       "      <td>Online</td>\n",
       "      <td>2</td>\n",
       "      <td>35.29</td>\n",
       "      <td>notepad</td>\n",
       "      <td>M</td>\n",
       "      <td>70.58</td>\n",
       "    </tr>\n",
       "    <tr>\n",
       "      <th>2</th>\n",
       "      <td>{'$oid': '5bd761dcae323e45a93ccfe8'}</td>\n",
       "      <td>{'$date': '2015-03-23T21:06:49.506Z'}</td>\n",
       "      <td>Denver</td>\n",
       "      <td>Online</td>\n",
       "      <td>5</td>\n",
       "      <td>56.12</td>\n",
       "      <td>pens</td>\n",
       "      <td>M</td>\n",
       "      <td>280.60</td>\n",
       "    </tr>\n",
       "    <tr>\n",
       "      <th>3</th>\n",
       "      <td>{'$oid': '5bd761dcae323e45a93ccfe8'}</td>\n",
       "      <td>{'$date': '2015-03-23T21:06:49.506Z'}</td>\n",
       "      <td>Denver</td>\n",
       "      <td>Online</td>\n",
       "      <td>2</td>\n",
       "      <td>77.71</td>\n",
       "      <td>backpack</td>\n",
       "      <td>M</td>\n",
       "      <td>155.42</td>\n",
       "    </tr>\n",
       "    <tr>\n",
       "      <th>4</th>\n",
       "      <td>{'$oid': '5bd761dcae323e45a93ccfe8'}</td>\n",
       "      <td>{'$date': '2015-03-23T21:06:49.506Z'}</td>\n",
       "      <td>Denver</td>\n",
       "      <td>Online</td>\n",
       "      <td>2</td>\n",
       "      <td>18.47</td>\n",
       "      <td>notepad</td>\n",
       "      <td>M</td>\n",
       "      <td>36.94</td>\n",
       "    </tr>\n",
       "  </tbody>\n",
       "</table>\n",
       "</div>"
      ],
      "text/plain": [
       "                                    _id  \\\n",
       "0  {'$oid': '5bd761dcae323e45a93ccfe8'}   \n",
       "1  {'$oid': '5bd761dcae323e45a93ccfe8'}   \n",
       "2  {'$oid': '5bd761dcae323e45a93ccfe8'}   \n",
       "3  {'$oid': '5bd761dcae323e45a93ccfe8'}   \n",
       "4  {'$oid': '5bd761dcae323e45a93ccfe8'}   \n",
       "\n",
       "                                saleDate storeLocation purchaseMethod  \\\n",
       "0  {'$date': '2015-03-23T21:06:49.506Z'}        Denver         Online   \n",
       "1  {'$date': '2015-03-23T21:06:49.506Z'}        Denver         Online   \n",
       "2  {'$date': '2015-03-23T21:06:49.506Z'}        Denver         Online   \n",
       "3  {'$date': '2015-03-23T21:06:49.506Z'}        Denver         Online   \n",
       "4  {'$date': '2015-03-23T21:06:49.506Z'}        Denver         Online   \n",
       "\n",
       "   quantity  price           name gender   sales  \n",
       "0         2  40.01  printer paper      M   80.02  \n",
       "1         2  35.29        notepad      M   70.58  \n",
       "2         5  56.12           pens      M  280.60  \n",
       "3         2  77.71       backpack      M  155.42  \n",
       "4         2  18.47        notepad      M   36.94  "
      ]
     },
     "execution_count": 105,
     "metadata": {},
     "output_type": "execute_result"
    }
   ],
   "source": [
    "#to extract the numeric value from the price dictionary\n",
    "def extract_numeric_value(price_dict):\n",
    "    return price_dict['$numberDecimal']\n",
    "\n",
    "# Apply the function to the price\n",
    "df['price'] = df['price'].apply(extract_numeric_value)\n",
    "#calsulates sale\n",
    "df['sales'] = df['price'] * df['quantity']\n",
    "\n",
    "df.head()\n"
   ]
  },
  {
   "cell_type": "code",
   "execution_count": 106,
   "metadata": {},
   "outputs": [
    {
     "name": "stdout",
     "output_type": "stream",
     "text": [
      "            name       sales\n",
      "3         laptop  6775977.07\n",
      "0       backpack   817374.10\n",
      "5           pens   581843.27\n",
      "1         binder   511644.57\n",
      "4        notepad   463615.48\n",
      "2      envelopes   376658.49\n",
      "6  printer paper   367459.29\n",
      "['printer paper' 'notepad' 'pens' 'backpack' 'envelopes' 'binder' 'laptop']\n"
     ]
    }
   ],
   "source": [
    "#Groupby 'name', calculate the sum of 'sales' for each product, and reset the index\n",
    "top_products = df.groupby('name')['sales'].sum().reset_index()\n",
    "# Sort top_productsin descending order based on the sales column\n",
    "top_products = top_products.sort_values(by='sales', ascending=False)\n",
    "\n",
    "# Select the top 10 products\n",
    "top_10_products = top_products.head(10)\n",
    "print(top_10_products)\n",
    "#print unique product name\n",
    "print(df['name'].unique())\n"
   ]
  },
  {
   "cell_type": "markdown",
   "metadata": {},
   "source": [
    "## Show top 3 products (name) sales by store (location). "
   ]
  },
  {
   "cell_type": "code",
   "execution_count": 107,
   "metadata": {},
   "outputs": [
    {
     "name": "stdout",
     "output_type": "stream",
     "text": [
      "        name storeLocation       sales\n",
      "0     laptop        Austin  1018494.05\n",
      "1   backpack        Austin   115217.59\n",
      "2       pens        Austin    74622.52\n",
      "3     laptop        Denver  1961659.25\n",
      "4   backpack        Denver   245679.34\n",
      "5       pens        Denver   185008.39\n",
      "6     laptop        London  1073098.72\n",
      "7   backpack        London   144529.14\n",
      "8       pens        London    92602.30\n",
      "9     laptop      New York   694613.32\n",
      "10  backpack      New York    82563.14\n",
      "11      pens      New York    64029.90\n",
      "12    laptop     San Diego   462973.58\n",
      "13  backpack     San Diego    50997.42\n",
      "14      pens     San Diego    42134.55\n",
      "15    laptop       Seattle  1565138.15\n",
      "16  backpack       Seattle   178387.47\n",
      "17      pens       Seattle   123445.61\n"
     ]
    }
   ],
   "source": [
    "# Group the data by 'name' and 'storeLocation,' and calculate total sales\n",
    "grouped = df.groupby(['name', 'storeLocation'])['sales'].sum().reset_index()\n",
    "\n",
    "# Sort the data within each store location group to find the top 3 products\n",
    "top_products = grouped.groupby('storeLocation').apply(lambda x: x.nlargest(3, 'sales')).reset_index(drop=True)\n",
    "\n",
    "print(top_products)"
   ]
  },
  {
   "cell_type": "markdown",
   "metadata": {},
   "source": [
    "## Show rankings of each store (location). "
   ]
  },
  {
   "cell_type": "code",
   "execution_count": 108,
   "metadata": {},
   "outputs": [
    {
     "name": "stdout",
     "output_type": "stream",
     "text": [
      "  storeLocation       sales  rank\n",
      "1        Denver  2921009.92   1.0\n",
      "5       Seattle  2255947.69   2.0\n",
      "2        London  1583066.79   3.0\n",
      "0        Austin  1445603.11   4.0\n",
      "3      New York  1016059.59   5.0\n",
      "4     San Diego   672885.17   6.0\n"
     ]
    }
   ],
   "source": [
    "# Group by store location, sum sales, and rank\n",
    "store_rankings = df.groupby('storeLocation')['sales'].sum().reset_index()\n",
    "# Calculate the rank of each store location based on their total sales\n",
    "store_rankings['rank'] = store_rankings['sales'].rank(ascending=False, method='min')\n",
    "print(store_rankings.sort_values('rank'))\n"
   ]
  },
  {
   "cell_type": "markdown",
   "metadata": {},
   "source": [
    "## Show purchased method by gender table "
   ]
  },
  {
   "cell_type": "code",
   "execution_count": 112,
   "metadata": {},
   "outputs": [
    {
     "data": {
      "text/html": [
       "<div>\n",
       "<style scoped>\n",
       "    .dataframe tbody tr th:only-of-type {\n",
       "        vertical-align: middle;\n",
       "    }\n",
       "\n",
       "    .dataframe tbody tr th {\n",
       "        vertical-align: top;\n",
       "    }\n",
       "\n",
       "    .dataframe thead th {\n",
       "        text-align: right;\n",
       "    }\n",
       "</style>\n",
       "<table border=\"1\" class=\"dataframe\">\n",
       "  <thead>\n",
       "    <tr style=\"text-align: right;\">\n",
       "      <th>purchaseMethod</th>\n",
       "      <th>In store</th>\n",
       "      <th>Online</th>\n",
       "      <th>Phone</th>\n",
       "    </tr>\n",
       "    <tr>\n",
       "      <th>gender</th>\n",
       "      <th></th>\n",
       "      <th></th>\n",
       "      <th></th>\n",
       "    </tr>\n",
       "  </thead>\n",
       "  <tbody>\n",
       "    <tr>\n",
       "      <th>F</th>\n",
       "      <td>8062</td>\n",
       "      <td>4270</td>\n",
       "      <td>1499</td>\n",
       "    </tr>\n",
       "    <tr>\n",
       "      <th>M</th>\n",
       "      <td>7571</td>\n",
       "      <td>4314</td>\n",
       "      <td>1722</td>\n",
       "    </tr>\n",
       "  </tbody>\n",
       "</table>\n",
       "</div>"
      ],
      "text/plain": [
       "purchaseMethod  In store  Online  Phone\n",
       "gender                                 \n",
       "F                   8062    4270   1499\n",
       "M                   7571    4314   1722"
      ]
     },
     "execution_count": 112,
     "metadata": {},
     "output_type": "execute_result"
    }
   ],
   "source": [
    "# Group by gender and payment method, count the purchases\n",
    "purchase_table = df.groupby(['gender', 'purchaseMethod']).size().unstack()\n",
    "purchase_table = pd.DataFrame(purchase_table)\n",
    "purchase_table"
   ]
  },
  {
   "cell_type": "markdown",
   "metadata": {},
   "source": [
    "## Show monthly total sales "
   ]
  },
  {
   "cell_type": "code",
   "execution_count": 110,
   "metadata": {},
   "outputs": [
    {
     "data": {
      "text/html": [
       "<div>\n",
       "<style scoped>\n",
       "    .dataframe tbody tr th:only-of-type {\n",
       "        vertical-align: middle;\n",
       "    }\n",
       "\n",
       "    .dataframe tbody tr th {\n",
       "        vertical-align: top;\n",
       "    }\n",
       "\n",
       "    .dataframe thead th {\n",
       "        text-align: right;\n",
       "    }\n",
       "</style>\n",
       "<table border=\"1\" class=\"dataframe\">\n",
       "  <thead>\n",
       "    <tr style=\"text-align: right;\">\n",
       "      <th></th>\n",
       "      <th>_id</th>\n",
       "      <th>saleDate</th>\n",
       "      <th>storeLocation</th>\n",
       "      <th>purchaseMethod</th>\n",
       "      <th>quantity</th>\n",
       "      <th>price</th>\n",
       "      <th>name</th>\n",
       "      <th>gender</th>\n",
       "      <th>sales</th>\n",
       "    </tr>\n",
       "  </thead>\n",
       "  <tbody>\n",
       "    <tr>\n",
       "      <th>0</th>\n",
       "      <td>{'$oid': '5bd761dcae323e45a93ccfe8'}</td>\n",
       "      <td>2015-03-23T21:06:49.506Z</td>\n",
       "      <td>Denver</td>\n",
       "      <td>Online</td>\n",
       "      <td>2</td>\n",
       "      <td>40.01</td>\n",
       "      <td>printer paper</td>\n",
       "      <td>M</td>\n",
       "      <td>80.02</td>\n",
       "    </tr>\n",
       "    <tr>\n",
       "      <th>1</th>\n",
       "      <td>{'$oid': '5bd761dcae323e45a93ccfe8'}</td>\n",
       "      <td>2015-03-23T21:06:49.506Z</td>\n",
       "      <td>Denver</td>\n",
       "      <td>Online</td>\n",
       "      <td>2</td>\n",
       "      <td>35.29</td>\n",
       "      <td>notepad</td>\n",
       "      <td>M</td>\n",
       "      <td>70.58</td>\n",
       "    </tr>\n",
       "    <tr>\n",
       "      <th>2</th>\n",
       "      <td>{'$oid': '5bd761dcae323e45a93ccfe8'}</td>\n",
       "      <td>2015-03-23T21:06:49.506Z</td>\n",
       "      <td>Denver</td>\n",
       "      <td>Online</td>\n",
       "      <td>5</td>\n",
       "      <td>56.12</td>\n",
       "      <td>pens</td>\n",
       "      <td>M</td>\n",
       "      <td>280.60</td>\n",
       "    </tr>\n",
       "    <tr>\n",
       "      <th>3</th>\n",
       "      <td>{'$oid': '5bd761dcae323e45a93ccfe8'}</td>\n",
       "      <td>2015-03-23T21:06:49.506Z</td>\n",
       "      <td>Denver</td>\n",
       "      <td>Online</td>\n",
       "      <td>2</td>\n",
       "      <td>77.71</td>\n",
       "      <td>backpack</td>\n",
       "      <td>M</td>\n",
       "      <td>155.42</td>\n",
       "    </tr>\n",
       "    <tr>\n",
       "      <th>4</th>\n",
       "      <td>{'$oid': '5bd761dcae323e45a93ccfe8'}</td>\n",
       "      <td>2015-03-23T21:06:49.506Z</td>\n",
       "      <td>Denver</td>\n",
       "      <td>Online</td>\n",
       "      <td>2</td>\n",
       "      <td>18.47</td>\n",
       "      <td>notepad</td>\n",
       "      <td>M</td>\n",
       "      <td>36.94</td>\n",
       "    </tr>\n",
       "  </tbody>\n",
       "</table>\n",
       "</div>"
      ],
      "text/plain": [
       "                                    _id                  saleDate  \\\n",
       "0  {'$oid': '5bd761dcae323e45a93ccfe8'}  2015-03-23T21:06:49.506Z   \n",
       "1  {'$oid': '5bd761dcae323e45a93ccfe8'}  2015-03-23T21:06:49.506Z   \n",
       "2  {'$oid': '5bd761dcae323e45a93ccfe8'}  2015-03-23T21:06:49.506Z   \n",
       "3  {'$oid': '5bd761dcae323e45a93ccfe8'}  2015-03-23T21:06:49.506Z   \n",
       "4  {'$oid': '5bd761dcae323e45a93ccfe8'}  2015-03-23T21:06:49.506Z   \n",
       "\n",
       "  storeLocation purchaseMethod  quantity  price           name gender   sales  \n",
       "0        Denver         Online         2  40.01  printer paper      M   80.02  \n",
       "1        Denver         Online         2  35.29        notepad      M   70.58  \n",
       "2        Denver         Online         5  56.12           pens      M  280.60  \n",
       "3        Denver         Online         2  77.71       backpack      M  155.42  \n",
       "4        Denver         Online         2  18.47        notepad      M   36.94  "
      ]
     },
     "execution_count": 110,
     "metadata": {},
     "output_type": "execute_result"
    }
   ],
   "source": [
    "# Define a function to extract the numeric value\n",
    "def extract_numeric_value(price_dict):\n",
    "    return price_dict['$date']\n",
    "\n",
    "# Apply the function to the saleDate\n",
    "df['saleDate'] = df['saleDate'].apply(extract_numeric_value)\n",
    "\n",
    "df.head()"
   ]
  },
  {
   "cell_type": "code",
   "execution_count": 111,
   "metadata": {},
   "outputs": [
    {
     "name": "stdout",
     "output_type": "stream",
     "text": [
      "   month      sales\n",
      "0     01  918003.43\n",
      "1     02  733884.21\n",
      "2     03  867736.82\n",
      "3     04  756559.46\n",
      "4     05  878892.77\n",
      "5     06  769416.01\n",
      "6     07  847051.30\n",
      "7     08  791504.16\n",
      "8     09  758566.50\n",
      "9     10  838232.29\n",
      "10    11  860402.92\n",
      "11    12  871436.60\n"
     ]
    }
   ],
   "source": [
    "# Convert the saleDate column to datetime , handling errors with coerce\n",
    "df['saleDate'] = pd.to_datetime(df['saleDate'], format='%Y-%m-%dT%H:%M:%S.%fZ', errors='coerce')\n",
    "\n",
    "# Format the dates as month and create a new column\n",
    "df['month'] = df['saleDate'].dt.strftime(\"%m\")\n",
    "#contains the total sales for each month\n",
    "monthly_sales = df.groupby('month')['sales'].sum().reset_index() \n",
    "print(monthly_sales)\n"
   ]
  }
 ],
 "metadata": {
  "kernelspec": {
   "display_name": ".venv",
   "language": "python",
   "name": "python3"
  },
  "language_info": {
   "codemirror_mode": {
    "name": "ipython",
    "version": 3
   },
   "file_extension": ".py",
   "mimetype": "text/x-python",
   "name": "python",
   "nbconvert_exporter": "python",
   "pygments_lexer": "ipython3",
   "version": "3.9.13"
  },
  "orig_nbformat": 4
 },
 "nbformat": 4,
 "nbformat_minor": 2
}
